{
 "cells": [
  {
   "cell_type": "markdown",
   "metadata": {},
   "source": [
    "**Engy-5050** Reactor Physics, UMass Lowell, Chem. Eng. Nuclear Program Spring 2022; Prof. V. F. de Almeida\n",
    "\n",
    "# 1-D Point Source Neutron Transport\n",
    "$  \n",
    "  \\newcommand{\\Amtrx}{\\boldsymbol{\\mathsf{A}}}\n",
    "  \\newcommand{\\Bmtrx}{\\boldsymbol{\\mathsf{B}}}\n",
    "  \\newcommand{\\Mmtrx}{\\boldsymbol{\\mathsf{M}}}\n",
    "  \\newcommand{\\Imtrx}{\\boldsymbol{\\mathsf{I}}}\n",
    "  \\newcommand{\\Pmtrx}{\\boldsymbol{\\mathsf{P}}}\n",
    "  \\newcommand{\\Lmtrx}{\\boldsymbol{\\mathsf{L}}}\n",
    "  \\newcommand{\\Umtrx}{\\boldsymbol{\\mathsf{U}}}\n",
    "  \\newcommand{\\Smtrx}{\\boldsymbol{\\mathsf{S}}}\n",
    "  \\newcommand{\\xvec}{\\boldsymbol{\\mathsf{x}}}\n",
    "  \\newcommand{\\uvar}{\\boldsymbol{u}}\n",
    "  \\newcommand{\\fvar}{\\boldsymbol{f}}\n",
    "  \\newcommand{\\avec}{\\boldsymbol{\\mathsf{a}}}\n",
    "  \\newcommand{\\bvec}{\\boldsymbol{\\mathsf{b}}}\n",
    "  \\newcommand{\\cvec}{\\boldsymbol{\\mathsf{c}}}\n",
    "  \\newcommand{\\rvec}{\\boldsymbol{\\mathsf{r}}}\n",
    "  \\newcommand{\\mvec}{\\boldsymbol{\\mathsf{m}}}\n",
    "  \\newcommand{\\gvec}{\\boldsymbol{\\mathsf{g}}}\n",
    "  \\newcommand{\\zerovec}{\\boldsymbol{\\mathsf{0}}}\n",
    "  \\newcommand{\\norm}[1]{\\bigl\\lVert{#1}\\bigr\\rVert}\n",
    "  \\newcommand{\\transpose}[1]{{#1}^\\top}\n",
    "  \\DeclareMathOperator{\\rank}{rank}\n",
    "  \\newcommand{\\Power}{\\mathcal{P}}\n",
    "$"
   ]
  },
  {
   "cell_type": "markdown",
   "metadata": {},
   "source": [
    "**Student(s):** Anthony Bowers, Andrew Hamel <br>\n",
    "**Course:** Engy-5050 Reactor Physics  <br>\n",
    "\n",
    "\n",
    "UMass Lowell, Dept. of Chemical Engineering, Nuclear Energy Program \n",
    "<br>\n",
    "**7March2022**"
   ]
  },
  {
   "cell_type": "markdown",
   "metadata": {},
   "source": [
    "---\n",
    "## Table of Contents<a id=\"toc\"></a>\n",
    "* [Introduction](#intro)\n",
    "* [Problem Statement](#problem)\n",
    "* [Objectives](#obj)\n",
    "* [FEM Approach](#app)\n",
    " + [Analytical Solution](#analyticalsol)\n",
    " + [Weak Form of Problem Statement](#weakform)\n",
    " + [MOOSE Kernels](#kernels)\n",
    " + [Setup](#setup)\n",
    "    - [One-Group Energy](#onegroupenergy)\n",
    "    - [Two-Group Energy](#twogroupenergy)\n",
    "* [FDM Approach](#appFDM)\n",
    " + [Discretization](#setupFDM)\n",
    "    - [One-Group Energy](#onegroupenergyFDM)\n",
    "    - [Two-Group Energy](#twogroupenergyFDM)\n",
    "* [Results and Analysis](#ranalysis)\n",
    "* [Conclusions](#conclusions)\n",
    "* [References](#refs)\n",
    "---"
   ]
  },
  {
   "cell_type": "markdown",
   "metadata": {},
   "source": [
    "## [Introduction](#toc)<a id=\"intro\"></a>\n",
    "\n",
    "When considering nuclear systems, rates of reactions between nuclei and particles are highly dependant on the incident energy of those particles. Because of this, much of the accuracy of a nuclear model can be lost if neutrons are assumed to be monoenergetic. An effective way of capturing the energetic property of neutrons is to use the multigroup neutron transport equations. These equations work on the assumption that neutrons have energies divided into a number of bins, 1 through G, where G could be as low as 2 or in the hundreds. \n",
    "\n",
    "\n",
    "\n",
    "<img src=\"EnergyGroups.png\" alt=\"EnergyGroups\" class=\"bg-primary mb-1\" width=\"700px\" align=\"center\">\n",
    "\n",
    "*Fig 1*\n",
    "\n",
    "page 559   \n",
    "\n",
    "\n",
    "\n",
    "The equations account for a few ways that neutron number density may change within a control volume $\\Omega$ as a function of neutron energy, $E$ and direction $\\hat{\\vec{v}}$. The primary gains are by entering through the control volume boundary, generation from a neutron source such as fisson, and inscattering from some other energy or direction. Losses are considered as a result from total collision such as absorption or outscattering, or leakage through the control volume boundary $\\partial \\Omega$. \n",
    "\n",
    "<img src=\"multigroup_eqns.png\" alt=\"EnergyGroups\" class=\"bg-primary mb-1\" width=\"700px\" align=\"center\">\n",
    "\n",
    "*Fig 2. Transport equation for a single group g*\n",
    "\n",
    "\n",
    "These equations are difficult to solve because of the neutron streaming term, $\\nabla \\cdot D \\nabla \\phi$. The addition of this term makes the transport equation a hyperbolic PDE which may be difficult to solve analytically. For this reason, a solution method such as FEM or FDM is reccommended. This project seeks to model multigroup transport using FEM with the aide of MOOSE. Results will then be validated by using FDM and compared to an analytical solution. This work builds on a problem proposed by Paul Johnson in ENGY.5310"
   ]
  },
  {
   "cell_type": "markdown",
   "metadata": {},
   "source": [
    "## [Problem Statement](#toc)<a id=\"problem\"></a>"
   ]
  },
  {
   "cell_type": "markdown",
   "metadata": {},
   "source": [
    "Assumptions: \n",
    "    No upscattering\n",
    "    No fission\n",
    "    Only scatter to immediate neighbor -> directly coupled\n",
    "\n",
    "This project will explore a two-group neutron transport equation at steady-state in 1D. \n",
    "\n",
    "This investigation looks to determine how Finite Element Method (FEM) computation of the neutron diffusion equation compare to that of the Finite Difference Method (FDM) computation given standard assumptions about the definition of the diffusion coefficient in homogenous mediums far from and close to voids. Defining diffusion coefficients for neutron transport is an active field of research and includes approximations such as isotropic scattering, linear in angle, nonlocal weighting of nearby average transport properties, Monte Carlo study and experiment.\n",
    "\n",
    "Here we will compare the analytic linear transport result for non-absorbing and moderately absorbing mediums given a point source in spherical geometry. As well as, comaprison of the two computational methods of FEM and FDM. \n",
    "\n",
    "For a monoenergetic group time independent neutron diffusion equation (NDE) in written assuming azimuthal symmetry as\n",
    "\n",
    "Compute $\\Phi_g:[r_\\text{i},r_\\text{o}]\\subset\\Reals\\rightarrow\\Reals$ such that:\n",
    "\n",
    "\\begin{align*}\n",
    "  \\nabla \\cdot D_g \\nabla \\Phi_g(r) - \\Sigma_{g,r} \\Phi_g(r) + S_{g'\\rightarrow g} &= 0 \\\\\n",
    "   q_{n,g}(r_\\text{i}) &= A_g, \\\\\n",
    "   q_{n,g}(r_\\text{o}) &= \\frac{\\alpha}{2}\\Phi_g(r_\\text{o}).\n",
    "\\end{align*}\n",
    "\n",
    "where the source term $S_{g'\\rightarrow g} := \\sum_{g'=1}^{G} \\int_\\Omega \\Sigma_{s,g'\\rightarrow g}\\, f_{s,g'\\rightarrow g}(\\mu)\\,d\\Omega$ is the group down-scattering contribution for each group $g$.\n",
    "\n",
    "The neutron scalar flux is: $\\Phi(r)\\ [n/cm^2 s]$ \n",
    "\n",
    "The total macroscopic cross section is: $\\Sigma_{tot} = \\Sigma_{non-el} + \\Sigma_{el} \\approx \\Sigma_{abs} + \\Sigma_{el}$\n",
    "\n",
    "And the removal cross section for the multi group cross section is $ \\Sigma_{r} = \\Sigma_{tot} - \\bar{\\mu}\\Sigma_{s} $\n",
    "\n",
    "For brevity, $S' = Q^{fis}_{ext} + Q^{sc}_{in}$, is written as the combined source for exterior sources and fission sources or scatter in from out of group (up and down scatter). The full _scatter in term_ requires a _group averaged scatter cross section_ that further requires a _transfer function_ differential in post collision direction $\\Omega \\cdot \\Omega '$. \n",
    "\n",
    "Here for the free surface (vacuum) boundary condition. The neutron density at the outer boundary $\\Phi(r) = |v| n(r) = 0$ if $ n_b\\cdot \\Omega < 0 $."
   ]
  },
  {
   "cell_type": "markdown",
   "metadata": {},
   "source": [
    "### Domain\n",
    "The domain utilized in the simulation is spherical geometry containt a point source. Surronding the point source is light-water."
   ]
  },
  {
   "cell_type": "markdown",
   "metadata": {},
   "source": [
    "## [FEM Approach](#toc)<a id=\"app\"></a>"
   ]
  },
  {
   "cell_type": "markdown",
   "metadata": {},
   "source": [
    "### [Analytic Solution](#toc)<a id=\"analyticalsol\"></a> \n",
    "\n",
    "A general solution is commonly given without the asymptotic condition as:\n",
    "\n",
    "\\begin{align*}\n",
    "    \\Phi(r) =  \\frac{S_0 e^{-\\kappa r}}{4\\pi Dr} \\ \\ \\ (2)\n",
    "\\end{align*}\n",
    "\n"
   ]
  },
  {
   "cell_type": "markdown",
   "metadata": {},
   "source": [
    "### [Weak Form of Problem Statement](#toc)<a id=\"weakform\"></a> \n",
    "\n",
    "The Galerkin weak formulation of the [strong form](#strongform) is as follows. Find $\\Phi_g \\in H^1\\!\\bigl([r_\\text{i},r_\\text{o}]\\bigr)$ and $u_2 \\in H^1\\!\\bigl([a,b]\\bigr)$\n",
    "so that \n",
    "\n",
    "\\begin{align*}\n",
    "\\int\\limits_a^b D\\, u_1'(x)\\,w'(x)\\,dx - \\int\\limits_a^b S(u_1, u_2)\\,w(x)\\,dx &= 0 \\quad \\forall \\quad v \\in H^1_0\\!\\bigl([a,b]\\bigr), \\text{and}\n",
    " \\\\\n",
    "  \\int\\limits_a^b v\\, u_2'(x)\\, w(x)\\,dx + \\int\\limits_a^b D\\, u_2'(x)\\,w'(x)\\,dx + \\int\\limits_a^b S(u_1, u_2)\\,w(x)\\,dx &= 0 \\quad \\forall \\quad v \\in H^1_0\\!\\bigl([a,b]\\bigr),\n",
    "\\end{align*}\n",
    "\n",
    "where $H^1\\!\\bigl([a,b]\\bigr) := \\bigl\\{ u:[a,b]\\subset\\Reals\\rightarrow \\Reals \\mid \\int_a^b u'^2\\,dx < \\infty\\bigr\\}$ and $H^1_0\\!\\bigl([a,b]\\bigr) := \\bigl\\{ w \\mid w \\in H^1(a,b), w(a) = 0, w(b) =0 \\bigr\\}$. Both function sets as just defined are Hilbert spaces. The function $w$ is called a test function. Because $w$, $u_1$, $u_2$ are sought in very similar sets of functions, this weak form is called Galerkin's weak form.\n",
    "\n",
    "1. Multiply NDE by a test function $\\phi$.\n",
    "2. Integrate over spatial and angular domain.\n",
    "3. Use divergence theorem to set the boundary condition across the domain surface.\n",
    "\n",
    "The weak form and boundary condition becomes:\n",
    "\n",
    "\\begin{align*}\n",
    "    ( \\nabla \\phi, D \\nabla \\Phi  )\\ - < \\phi, D \\nabla \\Phi \\cdot \\bar{n_b} > +\\ (\\phi , \\Sigma_{tot} \\Phi) = 0 \\ \\ \\ (1B)\n",
    "\\end{align*}\n",
    "\n",
    "This weak form contains the volume and surface integral as written with parenthesis and brackets respectively. The boundary conditions for the partial currents at the surface given as $\\Gamma^{\\pm}$ must be solved for:\n",
    "\n",
    "\\begin{align*}\n",
    "    \\Gamma^{+} = J^{out}({R_S}) = \\nabla \\Phi \\cdot \\bar{n_b}\n",
    "\\end{align*}\n",
    "\n",
    "\\begin{align*}\n",
    "    \\Gamma^{-} = J^{in}({R_S}) = 0\n",
    "\\end{align*}\n",
    "\n",
    "Here we will use the homogenous Neumann boundary condition, which is equivalent to the Robin Vacuum boundary condition such that the reflectivity at the boundary is 0 as:\n",
    "\n",
    "\\begin{align*}\n",
    "    \\frac{1}{4} \\Phi + \\frac{1}{2} D \\nabla \\Phi \\cdot \\bar{n_b} = J^{-} = \\frac{\\Phi}{4} - \\frac{J}{2} = \\frac{\\Phi}{4} - \\frac{D \\nabla \\Phi}{2}\n",
    "\\end{align*}\n",
    "\n",
    "Solving for the weak form boundary condition and multiplying our test function $\\phi$:\n",
    "\n",
    "\\begin{align*}\n",
    "     \\phi (D \\nabla \\Phi \\cdot \\bar{n_b}) = \\phi( \\frac{1}{2} D \\nabla \\Phi)\n",
    "\\end{align*}\n",
    "\n",
    "#### 2 Group NDE  Weak Form:\n",
    "\n",
    "Assuming no upscattering from group 2 to group 1:\n",
    "\n",
    "\\begin{align*}\n",
    "    -\\nabla \\cdot D_1 \\nabla \\Phi_1(r)  + \\Sigma_{r,1} \\Phi_1(r) =  0 \\ \\ \\ \n",
    "\\end{align*}\n",
    "\n",
    "\\begin{align*}\n",
    "    -\\nabla \\cdot D_2 \\nabla \\Phi_2(r)  + \\Sigma_{r,2} \\Phi_2(r) =  -\\Sigma_{s,1 \\rightarrow 2} \\Phi_1(r) \\ \\ \\  \n",
    "\\end{align*}\n"
   ]
  },
  {
   "cell_type": "code",
   "execution_count": null,
   "metadata": {},
   "outputs": [],
   "source": [
    "import numpy as np\n",
    "import pandas as pd\n",
    "from matplotlib import pyplot as plt"
   ]
  },
  {
   "cell_type": "markdown",
   "metadata": {},
   "source": [
    "#### [One-Group Energy](#toc)<a id=\"onegroupenergy\"></a>"
   ]
  },
  {
   "cell_type": "code",
   "execution_count": null,
   "metadata": {},
   "outputs": [],
   "source": [
    "#!rm output1G*.csv\n",
    "!./neutron__transport-opt -i input_test.hit\n"
   ]
  },
  {
   "cell_type": "code",
   "execution_count": null,
   "metadata": {},
   "outputs": [],
   "source": [
    "import pandas as pd\n",
    "df = pd.read_csv('output1G_x-data_0002.csv')\n",
    "#plot_solution(df, title='Dirichlet BC FEM Solution', basis_functions_type='Linear Lagrange', flux_basis_functions_type='Constant Monomial')\n",
    "#print(df)\n",
    "fig = plt.figure(figsize=(10,10))\n",
    "plt.plot(df[\"x\"],df[\"u1\"],\"r-\")\n",
    "plt.yscale(\"log\")\n",
    "#plt.xlim(0,100)\n",
    "plt.xlabel(\"Radius [cm]\")\n",
    "plt.ylabel(\"Neutron flux [$N/cm^2$]\")\n",
    "font = {'family' : 'DejaVu Sans',\n",
    "        'weight' : 'normal',\n",
    "        'size'   : 15}\n",
    "plt.rc('font', **font)\n",
    "plt.title(\"1-Group FEM Solution\")\n",
    "plt.grid()\n",
    "plt.show()"
   ]
  },
  {
   "cell_type": "markdown",
   "metadata": {},
   "source": [
    "#### [Two-Group Energy](#toc)<a id=\"twogroupenergy\"></a>"
   ]
  },
  {
   "cell_type": "code",
   "execution_count": null,
   "metadata": {},
   "outputs": [],
   "source": [
    "!rm output2G*.csv\n",
    "!./neutron__transport-opt -i input2G.hit"
   ]
  },
  {
   "cell_type": "code",
   "execution_count": null,
   "metadata": {},
   "outputs": [],
   "source": [
    "import pandas as pd\n",
    "df = pd.read_csv('output2G_x-data_0002.csv')\n",
    "fig = plt.figure(figsize=(10,10))\n",
    "plt.plot(df[\"x\"],df[\"u1\"],\"r-\",label=\"FEM Solution 1-Group\")\n",
    "plt.plot(df[\"x\"],df[\"u2\"],\"b-\",label=\"FEM Solution 2-Group\")\n",
    "plt.yscale(\"log\")\n",
    "#plt.xlim(0,100)\n",
    "plt.grid()\n",
    "plt.legend()\n",
    "plt.xlabel(\"Radius [cm]\")\n",
    "plt.ylabel(\"Neutron flux [$N/cm^2$]\")\n",
    "font = {'family' : 'DejaVu Sans',\n",
    "        'weight' : 'normal',\n",
    "        'size'   : 15}\n",
    "plt.rc('font', **font)\n",
    "plt.title(\"2-Group FEM Solution\")\n",
    "plt.show()"
   ]
  },
  {
   "cell_type": "markdown",
   "metadata": {},
   "source": [
    "## [FDM Approach](#toc)<a id=\"appFDM\"></a>"
   ]
  },
  {
   "cell_type": "markdown",
   "metadata": {},
   "source": [
    "### [Discretization](#toc)<a id=\"setupFDM\"></a> "
   ]
  },
  {
   "cell_type": "markdown",
   "metadata": {},
   "source": [
    "For the discretization of the NDE a central approximation  is utilized, where for its respected differential \n",
    "\n"
   ]
  },
  {
   "cell_type": "code",
   "execution_count": null,
   "metadata": {},
   "outputs": [],
   "source": [
    "So = 1e6\n",
    "N = 2000\n",
    "rn = 10\n",
    "r0 = 0.1\n",
    "phi0 = So\n",
    "alpha = 1\n",
    "\n",
    "sigma_s = 0.022\n",
    "D=0.87\n",
    "\n",
    "h = (rn-r0)/(N+1)\n",
    "r = np.arange(r0+h, rn, h)\n",
    "\n",
    "A = np.zeros((N,N))\n",
    "B = np.zeros(N)\n",
    "\n",
    "A[0,0] = -sigma_s/D * h**2 - 2\n",
    "A[0,1] = 1 + (h/(r0))\n",
    "B[0] = -phi0 * (1-h/r0)\n",
    "\n",
    "for i in range(1,N-1):\n",
    "    A[i,i-1] = (1-(h/r[i]))\n",
    "    A[i,i] = -sigma_s/D * h**2 - 2\n",
    "    A[i,i+1] = 1 + (h/r[i])\n",
    "    B[i] = 0\n",
    "\n",
    "A[-1,-1] = (-h * alpha - 2 - h**2 * alpha/rn - sigma_s * h**2 / D)\n",
    "A[-1,-2] = 1 + 1+h/rn-h/rn\n",
    "B[-1] = 0\n",
    "\n",
    "L = np.sqrt(D/sigma_s)\n",
    "\n",
    "group1 = np.linalg.solve(A , B)\n",
    "group1 = np.concatenate((np.array([phi0]),group1,np.array([group1[-1]])))\n",
    "\n",
    "r = np.concatenate((np.array([r0]),r,np.array([rn])))\n",
    "\n",
    "\n",
    "x = np.linspace(0.1-h,10,N)\n",
    "y = So/(4*np.pi * x * D)*np.exp(-x/L)\n",
    "\n",
    "fig = plt.figure(figsize=(10,10))\n",
    "plt.plot(r,group1,label=\"FD Solution\")\n",
    "plt.plot(x,y,label=\"Analytical Solution\")\n",
    "plt.xlabel(\"Radius [cm]\")\n",
    "plt.ylabel(\"Neutron flux [N/cm^2]\")\n",
    "font = {'family' : 'DejaVu Sans',\n",
    "        'weight' : 'normal',\n",
    "        'size'   : 15}\n",
    "plt.rc('font', **font)\n",
    "plt.yscale(\"log\")\n",
    "plt.grid()\n",
    "plt.legend()\n",
    "plt.savefig(\"AnalyticalFDSolution.png\",dpi=300)\n",
    "plt.show()"
   ]
  },
  {
   "cell_type": "code",
   "execution_count": null,
   "metadata": {},
   "outputs": [],
   "source": [
    "#Two group Finite Difference Method\n",
    "So = 1e6\n",
    "N = 2000\n",
    "rn = 10\n",
    "r0 = 0.1\n",
    "phi0 = So\n",
    "alpha = 1\n",
    "sigma_1=0.022\n",
    "sigma_2 = 0.022\n",
    "sigma_12=0.87\n",
    "\n",
    "D=0.87\n",
    "L1 = np.sqrt(D/sigma_1)\n",
    "h = (rn-r0)/(N+1)\n",
    "r = np.arange(r0+h, rn, h)\n",
    "\n",
    "A = np.zeros((N,N))\n",
    "B = np.zeros(N)\n",
    "\n",
    "A[0,0] = -sigma_2/D * h**2 - 2\n",
    "A[0,1] = 2\n",
    "B[0] = -sigma_12*h**2*group1[0]\n",
    "#*So*np.exp(-r0/L1)/(4*np.pi*r0*D)\n",
    "\n",
    "for i in range(1,N-1):\n",
    "    A[i,i-1] = (1-(h/r[i]))\n",
    "    A[i,i] = -sigma_2/D * h**2 - 2\n",
    "    A[i,i+1] = 1 + (h/r[i])\n",
    "    B[i] = -sigma_12*h**2*group1[i]\n",
    "    #So*np.exp(-r[i]/L1)/(4*np.pi*r[i]*D)\n",
    "\n",
    "A[-1,-1] = (-h * alpha - 2 - h**2 * alpha/rn - sigma_2 * h**2 / D)\n",
    "A[-1,-2] = 1 + 1+h/rn-h/rn\n",
    "B[-1] = -sigma_12*h**2*group1[-1]\n",
    "#So*np.exp(-rn/L1)/(4*np.pi*rn*D)\n",
    "\n",
    "L = np.sqrt(D/sigma_1)\n",
    "\n",
    "group2 = np.linalg.solve(A , B)\n",
    "\n",
    "#group2 = np.concatenate((np.array([phi0]),group2,np.array([group1[-1]])))\n",
    "#r = np.concatenate((np.array([r0]),r,np.array([rn])))\n",
    "\n",
    "\n",
    "x = np.linspace(0.1-h,10,N)\n",
    "y = So/(4*np.pi * x * D)*np.exp(-x/L)\n",
    "\n",
    "fig = plt.figure(figsize=(10,10))\n",
    "plt.plot(r,group2,label=\"FD Solution\")\n",
    "#plt.plot(x,y,label=\"Analytical Solution\")\n",
    "plt.xlabel(\"Radius [cm]\")\n",
    "plt.ylabel(\"Neutron flux [$N/cm^2$]\")\n",
    "font = {'family' : 'DejaVu Sans',\n",
    "        'weight' : 'normal',\n",
    "        'size'   : 15}\n",
    "plt.rc('font', **font)\n",
    "plt.yscale(\"log\")\n",
    "plt.grid()\n",
    "plt.legend()\n",
    "plt.savefig(\"AnalyticalFDSolution.png\",dpi=300)\n",
    "plt.show()"
   ]
  },
  {
   "cell_type": "code",
   "execution_count": null,
   "metadata": {},
   "outputs": [],
   "source": [
    "fig = plt.figure(figsize=(10,12))\n",
    "plt.plot(df[\"x\"],df[\"u1\"],\"r-\",label=\"FEM Solution 1-Group\")\n",
    "plt.plot(df[\"x\"],df[\"u2\"],\"b-\",label=\"FEM Solution 2-Group\")\n",
    "\n",
    "plt.plot(r,group1[1:-1],label=\"FD Solution 1-Group\")\n",
    "\n",
    "#newely added\n",
    "plt.plot(r,group2,label=\"FD Solution 2-Group\")\n",
    "\n",
    "plt.plot(x,y,label=\"Analytical Solution for 1-Group\")\n",
    "plt.yscale(\"log\")\n",
    "#plt.xlim(0,100)\n",
    "plt.grid()\n",
    "plt.legend()\n",
    "plt.xlabel(\"Radius [cm]\")\n",
    "plt.ylabel(\"Neutron flux [$N/cm^2$]\")\n",
    "font = {'family' : 'DejaVu Sans',\n",
    "        'weight' : 'normal',\n",
    "        'size'   : 15}\n",
    "plt.rc('font', **font)\n",
    "plt.savefig(\"Analytical_FD_FEM_Sols.png\",dpi=300)\n",
    "plt.show()"
   ]
  },
  {
   "cell_type": "markdown",
   "metadata": {},
   "source": [
    "## [Results and Analysis](#toc)<a id=\"ranalysis\"></a>"
   ]
  },
  {
   "cell_type": "code",
   "execution_count": null,
   "metadata": {},
   "outputs": [],
   "source": []
  },
  {
   "cell_type": "code",
   "execution_count": null,
   "metadata": {},
   "outputs": [],
   "source": []
  }
 ],
 "metadata": {
  "kernelspec": {
   "display_name": "Python 3 (ipykernel)",
   "language": "python",
   "name": "python3"
  },
  "language_info": {
   "codemirror_mode": {
    "name": "ipython",
    "version": 3
   },
   "file_extension": ".py",
   "mimetype": "text/x-python",
   "name": "python",
   "nbconvert_exporter": "python",
   "pygments_lexer": "ipython3",
   "version": "3.9.6"
  },
  "latex_envs": {
   "LaTeX_envs_menu_present": true,
   "autoclose": false,
   "autocomplete": true,
   "bibliofile": "biblio.bib",
   "cite_by": "apalike",
   "current_citInitial": 1,
   "eqLabelWithNumbers": true,
   "eqNumInitial": 1,
   "hotkeys": {
    "equation": "Ctrl-E",
    "itemize": "Ctrl-I"
   },
   "labels_anchors": false,
   "latex_user_defs": false,
   "report_style_numbering": false,
   "user_envs_cfg": false
  }
 },
 "nbformat": 4,
 "nbformat_minor": 4
}
