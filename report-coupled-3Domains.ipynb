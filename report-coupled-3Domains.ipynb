{
 "cells": [
  {
   "cell_type": "markdown",
   "metadata": {},
   "source": [
    "**Engy-5050** Reactor Physics, UMass Lowell, Chem. Eng. Nuclear Program Spring 2022; Prof. V. F. de Almeida\n",
    "\n",
    "# 1-D Point Source Neutron Transport\n",
    "$  \n",
    "  \\newcommand{\\Amtrx}{\\boldsymbol{\\mathsf{A}}}\n",
    "  \\newcommand{\\Bmtrx}{\\boldsymbol{\\mathsf{B}}}\n",
    "  \\newcommand{\\Mmtrx}{\\boldsymbol{\\mathsf{M}}}\n",
    "  \\newcommand{\\Imtrx}{\\boldsymbol{\\mathsf{I}}}\n",
    "  \\newcommand{\\Pmtrx}{\\boldsymbol{\\mathsf{P}}}\n",
    "  \\newcommand{\\Lmtrx}{\\boldsymbol{\\mathsf{L}}}\n",
    "  \\newcommand{\\Umtrx}{\\boldsymbol{\\mathsf{U}}}\n",
    "  \\newcommand{\\Smtrx}{\\boldsymbol{\\mathsf{S}}}\n",
    "  \\newcommand{\\xvec}{\\boldsymbol{\\mathsf{x}}}\n",
    "  \\newcommand{\\uvar}{\\boldsymbol{u}}\n",
    "  \\newcommand{\\fvar}{\\boldsymbol{f}}\n",
    "  \\newcommand{\\avec}{\\boldsymbol{\\mathsf{a}}}\n",
    "  \\newcommand{\\bvec}{\\boldsymbol{\\mathsf{b}}}\n",
    "  \\newcommand{\\cvec}{\\boldsymbol{\\mathsf{c}}}\n",
    "  \\newcommand{\\rvec}{\\boldsymbol{\\mathsf{r}}}\n",
    "  \\newcommand{\\mvec}{\\boldsymbol{\\mathsf{m}}}\n",
    "  \\newcommand{\\gvec}{\\boldsymbol{\\mathsf{g}}}\n",
    "  \\newcommand{\\zerovec}{\\boldsymbol{\\mathsf{0}}}\n",
    "  \\newcommand{\\norm}[1]{\\bigl\\lVert{#1}\\bigr\\rVert}\n",
    "  \\newcommand{\\transpose}[1]{{#1}^\\top}\n",
    "  \\DeclareMathOperator{\\rank}{rank}\n",
    "  \\newcommand{\\Power}{\\mathcal{P}}\n",
    "$"
   ]
  },
  {
   "cell_type": "markdown",
   "metadata": {},
   "source": [
    "**Student(s):** Anthony Bowers, Andrew Hamel <br>\n",
    "**Course:** Engy-5050 Reactor Physics  <br>\n",
    "\n",
    "\n",
    "UMass Lowell, Dept. of Chemical Engineering, Nuclear Energy Program \n",
    "<br>\n",
    "**7March2022**"
   ]
  },
  {
   "cell_type": "markdown",
   "metadata": {},
   "source": [
    "---\n",
    "## Table of Contents<a id=\"toc\"></a>\n",
    "* [Introduction](#intro)\n",
    "* [Problem Statement](#problem)\n",
    "* [Objectives](#obj)\n",
    "* [Approach](#app)\n",
    " + [Analytical Solution](#analyticalsol)\n",
    " + [Weak Form of Problem Statement](#weakform)\n",
    " + [MOOSE Kernels](#kernels)\n",
    " + [Setup](#setup)\n",
    "    - [One-Group Energy](#onegroupenergy)\n",
    "* [Results and Analysis](#ranalysis)\n",
    "* [Conclusions](#conclusions)\n",
    "* [References](#refs)\n",
    "---"
   ]
  },
  {
   "cell_type": "markdown",
   "metadata": {},
   "source": [
    "### Domain\n",
    "The domain utilized in the simulation is spherical geometry containt a point source. Surronding the point source is light-water."
   ]
  },
  {
   "cell_type": "code",
   "execution_count": 6,
   "metadata": {},
   "outputs": [],
   "source": [
    "import numpy as np\n",
    "import pandas as pd\n",
    "from matplotlib import pyplot as plt"
   ]
  },
  {
   "cell_type": "code",
   "execution_count": 45,
   "metadata": {},
   "outputs": [],
   "source": [
    "def show_domain(screenshot=False):\n",
    "    import pyvista as pv\n",
    "    pv.set_plot_theme('paraview')\n",
    "\n",
    "    radius_i = 1\n",
    "    radius_o = 20 * radius_i\n",
    "    outer = pv.Sphere(center=(0,0,0), direction=(0,0,1), radius=radius_o)\n",
    "    inner = pv.Sphere(center=(0,0,0), direction=(0,0,1), radius=radius_i)\n",
    "\n",
    "    plo = pv.Plotter(notebook=True, shape=(1,1)) \n",
    "    plo.subplot(0,0)\n",
    "    plo.add_mesh(outer, color='yellow', opacity=0.99,)\n",
    "    plo.add_mesh(inner, color='red', opacity=1)\n",
    "    plo.add_axes(xlabel='R', ylabel='Theta', zlabel='Phi')\n",
    "\n",
    "    cpos = plo.show(window_size=[800, 600])\n",
    "    if screenshot:\n",
    "        plo.screenshot('domain.png')"
   ]
  },
  {
   "cell_type": "code",
   "execution_count": null,
   "metadata": {},
   "outputs": [
    {
     "name": "stderr",
     "output_type": "stream",
     "text": [
      "ERROR:root:Unable to find a valid OpenGL 3.2 or later implementation. Please update your video card driver to the latest version. If you are using Mesa please make sure you have version 11.2 or later and make sure your driver in Mesa supports OpenGL 3.2 such as llvmpipe or openswr. If you are on windows and using Microsoft remote desktop note that it only supports OpenGL 3.2 with nvidia quadro cards. You can use other remoting software such as nomachine to avoid this issue.\n"
     ]
    }
   ],
   "source": [
    "show_domain()"
   ]
  },
  {
   "cell_type": "markdown",
   "metadata": {},
   "source": [
    "## [Simulation](#toc)<a id=\"ranalysis\"></a>"
   ]
  },
  {
   "cell_type": "code",
   "execution_count": 32,
   "metadata": {},
   "outputs": [
    {
     "name": "stdout",
     "output_type": "stream",
     "text": [
      "rm: cannot remove 'output1G*.csv': No such file or directory\n",
      "\n",
      "Framework Information:\n",
      "MOOSE Version:           git commit b98ea2c450 on 2021-09-23\n",
      "LibMesh Version:         \n",
      "PETSc Version:           3.15.1\n",
      "SLEPc Version:           3.15.1\n",
      "Current Time:            Tue Mar  8 13:15:13 2022\n",
      "Executable Timestamp:    Tue Mar  8 12:35:32 2022\n",
      "\n",
      "Parallelism:\n",
      "  Num Processors:          1\n",
      "  Num Threads:             1\n",
      "\n",
      "Mesh: \n",
      "  Parallel Type:           replicated\n",
      "  Mesh Dimension:          1\n",
      "  Spatial Dimension:       1\n",
      "  Nodes:                   20001\n",
      "  Elems:                   10000\n",
      "  Num Subdomains:          1\n",
      "\n",
      "Nonlinear System:\n",
      "  Num DOFs:                60003\n",
      "  Num Local DOFs:          60003\n",
      "  Variables:               { \"u1\" \"u2\" \"u3\" } \n",
      "  Finite Element Types:    \"LAGRANGE\" \n",
      "  Approximation Orders:    \"SECOND\" \n",
      "\n",
      "Execution Information:\n",
      "  Executioner:             Steady\n",
      "  Solver Mode:             NEWTON\n",
      "  PETSc Preconditioner:    lu \n",
      "  MOOSE Preconditioner:    FDP\n",
      "\n",
      "\n",
      "\u001b[33m\n",
      "*** Warning ***\n",
      "/home/andrew/projects/neutron__transport/input-test.hit:10: unused parameter 'velocity'\n",
      "/home/andrew/projects/neutron__transport/input-test.hit:11: unused parameter 'transfer_coeff_right'\n",
      "/home/andrew/projects/neutron__transport/input-test.hit:13: unused parameter 'sigma_s12'\n",
      "/home/andrew/projects/neutron__transport/input-test.hit:14: unused parameter 'sigma_s13'\n",
      "/home/andrew/projects/neutron__transport/input-test.hit:15: unused parameter 'sigma_s23'\n",
      "\u001b[39m\n",
      " 0 Nonlinear |R| = \u001b[32m1.596123e+09\u001b[39m\n",
      "      0 Linear |R| = \u001b[32m1.596123e+09\u001b[39m\n",
      "      1 Linear |R| = \u001b[32m7.517137e-01\u001b[39m\n",
      " 1 Nonlinear |R| = \u001b[32m9.443826e+08\u001b[39m\n",
      "      0 Linear |R| = \u001b[32m9.443826e+08\u001b[39m\n",
      "      1 Linear |R| = \u001b[32m4.434382e-01\u001b[39m\n",
      " 2 Nonlinear |R| = \u001b[32m2.927729e+08\u001b[39m\n",
      "      0 Linear |R| = \u001b[32m2.927729e+08\u001b[39m\n",
      "      1 Linear |R| = \u001b[32m1.378393e-01\u001b[39m\n",
      " 3 Nonlinear |R| = \u001b[32m1.209092e+05\u001b[39m\n",
      "      0 Linear |R| = \u001b[32m1.209092e+05\u001b[39m\n",
      "      1 Linear |R| = \u001b[32m2.566147e-10\u001b[39m\n",
      " 4 Nonlinear |R| = \u001b[32m2.065323e-04\u001b[39m\n",
      "\u001b[32m Solve Converged!\u001b[39m\n"
     ]
    }
   ],
   "source": [
    "!rm output1G*.csv\n",
    "!./neutron__transport-opt -i input-test.hit\n"
   ]
  },
  {
   "cell_type": "code",
   "execution_count": 21,
   "metadata": {},
   "outputs": [],
   "source": [
    "import pandas as pd\n",
    "df = pd.read_csv('output1G_x-data_0002.csv')\n",
    "#plot_solution(df, title='Dirichlet BC FEM Solution', basis_functions_type='Linear Lagrange', flux_basis_functions_type='Constant Monomial')\n",
    "#print(df)\n"
   ]
  },
  {
   "cell_type": "code",
   "execution_count": 22,
   "metadata": {},
   "outputs": [
    {
     "data": {
      "image/png": "[encoded data removed]",
      "text/plain": [
       "<Figure size 720x720 with 1 Axes>"
      ]
     },
     "metadata": {
      "needs_background": "light"
     },
     "output_type": "display_data"
    }
   ],
   "source": [
    "fig = plt.figure(figsize=(10,10))\n",
    "plt.plot(df[\"x\"],df[\"u1\"],\"r-\")\n",
    "plt.yscale(\"log\")\n",
    "#plt.xlim(0,100)\n",
    "plt.grid()\n",
    "plt.show()"
   ]
  },
  {
   "cell_type": "code",
   "execution_count": null,
   "metadata": {},
   "outputs": [],
   "source": []
  },
  {
   "cell_type": "code",
   "execution_count": 48,
   "metadata": {},
   "outputs": [
    {
     "name": "stdout",
     "output_type": "stream",
     "text": [
      "\n",
      "Framework Information:\n",
      "MOOSE Version:           git commit b98ea2c450 on 2021-09-23\n",
      "LibMesh Version:         \n",
      "PETSc Version:           3.15.1\n",
      "SLEPc Version:           3.15.1\n",
      "Current Time:            Tue Mar  8 13:20:11 2022\n",
      "Executable Timestamp:    Tue Mar  8 13:20:10 2022\n",
      "\n",
      "Parallelism:\n",
      "  Num Processors:          1\n",
      "  Num Threads:             1\n",
      "\n",
      "Mesh: \n",
      "  Parallel Type:           replicated\n",
      "  Mesh Dimension:          1\n",
      "  Spatial Dimension:       1\n",
      "  Nodes:                   20001\n",
      "  Elems:                   10000\n",
      "  Num Subdomains:          1\n",
      "\n",
      "Nonlinear System:\n",
      "  Num DOFs:                40002\n",
      "  Num Local DOFs:          40002\n",
      "  Variables:               { \"u1\" \"u2\" } \n",
      "  Finite Element Types:    \"LAGRANGE\" \n",
      "  Approximation Orders:    \"SECOND\" \n",
      "\n",
      "Execution Information:\n",
      "  Executioner:             Steady\n",
      "  Solver Mode:             NEWTON\n",
      "  PETSc Preconditioner:    lu \n",
      "  MOOSE Preconditioner:    FDP\n",
      "\n",
      "\n",
      "\u001b[33m\n",
      "*** Warning ***\n",
      "/home/andrew/projects/neutron__transport/input2G.hit:11: unused parameter 'velocity'\n",
      "/home/andrew/projects/neutron__transport/input2G.hit:12: unused parameter 'transfer_coeff_right'\n",
      "/home/andrew/projects/neutron__transport/input2G.hit:15: unused parameter 'sigma_s13'\n",
      "/home/andrew/projects/neutron__transport/input2G.hit:16: unused parameter 'sigma_s23'\n",
      "/home/andrew/projects/neutron__transport/input2G.hit:92: unused parameter 'BCs/exit-u1/value'\n",
      "/home/andrew/projects/neutron__transport/input2G.hit:104: unused parameter 'BCs/exit-u2/value'\n",
      "\u001b[39m\n",
      " 0 Nonlinear |R| = \u001b[32m8.885755e+08\u001b[39m\n",
      "      0 Linear |R| = \u001b[32m8.885755e+08\u001b[39m\n",
      "      1 Linear |R| = \u001b[32m6.835755e-02\u001b[39m\n",
      " 1 Nonlinear |R| = \u001b[32m4.442684e+08\u001b[39m\n",
      "      0 Linear |R| = \u001b[32m4.442684e+08\u001b[39m\n",
      "      1 Linear |R| = \u001b[32m3.370483e-02\u001b[39m\n",
      " 2 Nonlinear |R| = \u001b[32m2.743469e+04\u001b[39m\n",
      "      0 Linear |R| = \u001b[32m2.743469e+04\u001b[39m\n",
      "      1 Linear |R| = \u001b[32m1.732150e-10\u001b[39m\n",
      " 3 Nonlinear |R| = \u001b[32m1.150813e-04\u001b[39m\n",
      "\u001b[32m Solve Converged!\u001b[39m\n"
     ]
    }
   ],
   "source": [
    "!rm output2G*.csv\n",
    "!./neutron__transport-opt -i input2G.hit"
   ]
  },
  {
   "cell_type": "code",
   "execution_count": 49,
   "metadata": {},
   "outputs": [
    {
     "name": "stdout",
     "output_type": "stream",
     "text": [
      "             id              u1         u2          x  y  z\n",
      "0      0.000000  1000000.000000  24.537210   0.000000  0  0\n",
      "1      0.001667    66241.058440  24.529313   0.001667  0  0\n",
      "2      0.003333    33369.194474  24.521857   0.003333  0  0\n",
      "3      0.005000    22217.231657  24.514407   0.005000  0  0\n",
      "4      0.006667    16656.548276  24.506959   0.006667  0  0\n",
      "...         ...             ...        ...        ... .. ..\n",
      "5996   9.993333        1.166103   1.714789   9.993333  0  0\n",
      "5997   9.995000        1.164989   1.713151   9.995000  0  0\n",
      "5998   9.996667        1.163875   1.711514   9.996667  0  0\n",
      "5999   9.998333        1.162761   1.709877   9.998333  0  0\n",
      "6000  10.000000        1.161649   1.708241  10.000000  0  0\n",
      "\n",
      "[6001 rows x 6 columns]\n"
     ]
    }
   ],
   "source": [
    "import pandas as pd\n",
    "df = pd.read_csv('output2G_x-data_0002.csv')\n"
   ]
  },
  {
   "cell_type": "code",
   "execution_count": 50,
   "metadata": {},
   "outputs": [
    {
     "data": {
      "image/png": "[encoded data removed]",
      "text/plain": [
       "<Figure size 720x720 with 1 Axes>"
      ]
     },
     "metadata": {
      "needs_background": "light"
     },
     "output_type": "display_data"
    }
   ],
   "source": [
    "fig = plt.figure(figsize=(10,10))\n",
    "plt.plot(df[\"x\"],df[\"u1\"],\"r-\",label=\"u1\")\n",
    "plt.plot(df[\"x\"],df[\"u2\"],\"b-\",label=\"u2\")\n",
    "plt.yscale(\"log\")\n",
    "#plt.xlim(0,100)\n",
    "plt.grid()\n",
    "plt.legend()\n",
    "plt.xlabel(\"x (cm)\")\n",
    "plt.ylabel(\"y (neutron flux)\")\n",
    "plt.show()"
   ]
  },
  {
   "cell_type": "code",
   "execution_count": null,
   "metadata": {},
   "outputs": [],
   "source": []
  },
  {
   "cell_type": "code",
   "execution_count": 52,
   "metadata": {},
   "outputs": [
    {
     "data": {
      "image/png": "[encoded data removed]",
      "text/plain": [
       "<Figure size 720x576 with 1 Axes>"
      ]
     },
     "metadata": {
      "needs_background": "light"
     },
     "output_type": "display_data"
    }
   ],
   "source": [
    "def get_a_b(n):\n",
    "    h = (np.pi/2-0) / n\n",
    "    x = np.linspace(0, np.pi/2, n+1)\n",
    "    # Get A\n",
    "    A = np.zeros((n+1, n+1))\n",
    "    A[0, 0] = 1\n",
    "    A[n, n] = -2+4*h**2\n",
    "    A[n, n-1] = 2\n",
    "    for i in range(1, n):\n",
    "        A[i, i-1] = 1\n",
    "        A[i, i] = -2+4*h**2\n",
    "        A[i, i+1] = 1\n",
    "\n",
    "    # Get b\n",
    "    b = np.zeros(n+1)\n",
    "    for i in range(1, n+1):\n",
    "        b[i] = 4*h**2*x[i]\n",
    "    \n",
    "    return x, A, b\n",
    "\n",
    "x = np.pi/2\n",
    "v = x - np.sin(2*x)\n",
    "\n",
    "n_s = []\n",
    "errors = []\n",
    "\n",
    "for n in range(3, 100, 5):\n",
    "    x, A, b = get_a_b(n)\n",
    "    y = np.linalg.solve(A, b)\n",
    "    n_s.append(n)\n",
    "    e = v - y[-1]\n",
    "    errors.append(e)\n",
    "    \n",
    "plt.figure(figsize = (10,8))\n",
    "plt.plot(n_s, errors)\n",
    "plt.yscale('log')\n",
    "plt.xlabel('n gird points')\n",
    "plt.ylabel('errors at x = $\\pi/2$')\n",
    "plt.show()"
   ]
  },
  {
   "cell_type": "markdown",
   "metadata": {},
   "source": [
    "## [Results and Analysis](#toc)<a id=\"ranalysis\"></a>"
   ]
  },
  {
   "cell_type": "code",
   "execution_count": null,
   "metadata": {},
   "outputs": [],
   "source": []
  },
  {
   "cell_type": "code",
   "execution_count": null,
   "metadata": {},
   "outputs": [],
   "source": []
  }
 ],
 "metadata": {
  "kernelspec": {
   "display_name": "Python 3 (ipykernel)",
   "language": "python",
   "name": "python3"
  },
  "language_info": {
   "codemirror_mode": {
    "name": "ipython",
    "version": 3
   },
   "file_extension": ".py",
   "mimetype": "text/x-python",
   "name": "python",
   "nbconvert_exporter": "python",
   "pygments_lexer": "ipython3",
   "version": "3.9.6"
  },
  "latex_envs": {
   "LaTeX_envs_menu_present": true,
   "autoclose": false,
   "autocomplete": true,
   "bibliofile": "biblio.bib",
   "cite_by": "apalike",
   "current_citInitial": 1,
   "eqLabelWithNumbers": true,
   "eqNumInitial": 1,
   "hotkeys": {
    "equation": "Ctrl-E",
    "itemize": "Ctrl-I"
   },
   "labels_anchors": false,
   "latex_user_defs": false,
   "report_style_numbering": false,
   "user_envs_cfg": false
  }
 },
 "nbformat": 4,
 "nbformat_minor": 2
}
