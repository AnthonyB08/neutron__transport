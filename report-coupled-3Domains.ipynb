{
 "cells": [
  {
   "cell_type": "markdown",
   "metadata": {},
   "source": [
    "**Engy-5050** Reactor Physics, UMass Lowell, Chem. Eng. Nuclear Program Spring 2022; Prof. V. F. de Almeida\n",
    "\n",
    "# 1-D Point Source Neutron Transport\n",
    "$  \n",
    "  \\newcommand{\\Amtrx}{\\boldsymbol{\\mathsf{A}}}\n",
    "  \\newcommand{\\Bmtrx}{\\boldsymbol{\\mathsf{B}}}\n",
    "  \\newcommand{\\Mmtrx}{\\boldsymbol{\\mathsf{M}}}\n",
    "  \\newcommand{\\Imtrx}{\\boldsymbol{\\mathsf{I}}}\n",
    "  \\newcommand{\\Pmtrx}{\\boldsymbol{\\mathsf{P}}}\n",
    "  \\newcommand{\\Lmtrx}{\\boldsymbol{\\mathsf{L}}}\n",
    "  \\newcommand{\\Umtrx}{\\boldsymbol{\\mathsf{U}}}\n",
    "  \\newcommand{\\Smtrx}{\\boldsymbol{\\mathsf{S}}}\n",
    "  \\newcommand{\\xvec}{\\boldsymbol{\\mathsf{x}}}\n",
    "  \\newcommand{\\uvar}{\\boldsymbol{u}}\n",
    "  \\newcommand{\\fvar}{\\boldsymbol{f}}\n",
    "  \\newcommand{\\avec}{\\boldsymbol{\\mathsf{a}}}\n",
    "  \\newcommand{\\bvec}{\\boldsymbol{\\mathsf{b}}}\n",
    "  \\newcommand{\\cvec}{\\boldsymbol{\\mathsf{c}}}\n",
    "  \\newcommand{\\rvec}{\\boldsymbol{\\mathsf{r}}}\n",
    "  \\newcommand{\\mvec}{\\boldsymbol{\\mathsf{m}}}\n",
    "  \\newcommand{\\gvec}{\\boldsymbol{\\mathsf{g}}}\n",
    "  \\newcommand{\\zerovec}{\\boldsymbol{\\mathsf{0}}}\n",
    "  \\newcommand{\\norm}[1]{\\bigl\\lVert{#1}\\bigr\\rVert}\n",
    "  \\newcommand{\\transpose}[1]{{#1}^\\top}\n",
    "  \\DeclareMathOperator{\\rank}{rank}\n",
    "  \\newcommand{\\Power}{\\mathcal{P}}\n",
    "$"
   ]
  },
  {
   "cell_type": "markdown",
   "metadata": {},
   "source": [
    "**Student(s):** Anthony Bowers, Andrew Hamel <br>\n",
    "**Course:** Engy-5050 Reactor Physics  <br>\n",
    "\n",
    "\n",
    "UMass Lowell, Dept. of Chemical Engineering, Nuclear Energy Program \n",
    "<br>\n",
    "**7March2022**"
   ]
  },
  {
   "cell_type": "markdown",
   "metadata": {},
   "source": [
    "---\n",
    "## Table of Contents<a id=\"toc\"></a>\n",
    "* [Introduction](#intro)\n",
    "* [Problem Statement](#problem)\n",
    "* [Objectives](#obj)\n",
    "* [Approach](#app)\n",
    " + [Analytical Solution](#analyticalsol)\n",
    " + [Weak Form of Problem Statement](#weakform)\n",
    " + [MOOSE Kernels](#kernels)\n",
    " + [Setup](#setup)\n",
    "    - [One-Group Energy](#onegroupenergy)\n",
    "* [Results and Analysis](#ranalysis)\n",
    "* [Conclusions](#conclusions)\n",
    "* [References](#refs)\n",
    "---"
   ]
  },
  {
   "cell_type": "markdown",
   "metadata": {},
   "source": [
    "## [Problem Statement](#toc)<a id=\"problem\"></a>"
   ]
  },
  {
   "cell_type": "markdown",
   "metadata": {},
   "source": [
    "### [Strong Form of Problem Statement](#toc)<a id=\"strongform\"></a>\n",
    "\n",
    "Consider a neutron point source surronded by sphere of uranium-238 emmiting $10^6$ $\\frac{neutrons}{second}$. It is assumed that no up-scattering occures. Moreover, it is assumed that the outer surface of the sphere is a vacuum robin boundary conditions. In addition, the emission of neutrons is assumed to monoenergetic, being fast. \n",
    "\n",
    "This investigation looks to compare the analytical and numerical methods of solving neutron diffusion. The selected analytical for single group is a solved analytically as a second order inhomogeneous ordinary differential equation. Whereas, the two group is solved analytically using Finite Difference Method (FDM). These analyticaly solutions are then to be compared against MOOSE ,a Finite Element Method (FEM) solver. \n",
    "\n",
    "The following declaration of equations and parameters is given by Paul Johnson [1] \n",
    "\n",
    "The multi-group (energy group) time independent neutron diffusion equation (NDE) in written assuming azimuthal symmetry as\n",
    "\n",
    "Compute $\\Phi_g:[r_\\text{i},r_\\text{o}]\\subset\\Reals\\rightarrow\\Reals$ such that:\n",
    "\n",
    "\\begin{align*}\n",
    "  \\nabla \\cdot D_g \\nabla \\Phi_g(r) - \\Sigma_{g,r} \\Phi_g(r) + S_{g'\\rightarrow g} &= 0 \\\\\n",
    "   q_{n,g}(r_\\text{i}) &= A_g, \\\\\n",
    "   q_{n,g}(r_\\text{o}) &= \\frac{\\alpha}{2}\\Phi_g(r_\\text{o}).\n",
    "\\end{align*}\n",
    "\n",
    "where the source term $S_{g'\\rightarrow g} := \\sum_{g'=1}^{G} \\int_\\Omega \\Sigma_{s,g'\\rightarrow g}\\, f_{s,g'\\rightarrow g}(\\mu)\\,d\\Omega$ is the group down-scattering contribution for each group $g$.\n",
    "\n",
    "The neutron scalar flux is: $\\Phi(r)\\ [n/cm^2 s]$ \n",
    "\n",
    "The total macroscopic cross section is: $\\Sigma_{tot} = \\Sigma_{non-el} + \\Sigma_{el} \\approx \\Sigma_{abs} + \\Sigma_{el}$\n",
    "\n",
    "And the removal cross section for the multi group cross section is $ \\Sigma_{r} = \\Sigma_{tot} - \\bar{\\mu}\\Sigma_{s} $\n",
    "\n",
    "For brevity, $S' = Q^{fis}_{ext} + Q^{sc}_{in}$, is written as the combined source for exterior sources and fission sources or scatter in from out of group (up and down scatter). The full _scatter in term_ requires a _group averaged scatter cross section_ that further requires a _transfer function_ differential in post collision direction $\\Omega \\cdot \\Omega '$. \n",
    "\n",
    "Here for the free surface (vacuum) boundary condition. The neutron density at the outer boundary $\\Phi(r) = |v| n(r) = 0$ if $ n_b\\cdot \\Omega < 0 $.\n",
    "\n"
   ]
  },
  {
   "cell_type": "markdown",
   "metadata": {},
   "source": [
    "### Domain\n",
    "The domain utilized in the simulation is spherical geometry containt a point source. Surronding the point source is light-water."
   ]
  },
  {
   "cell_type": "code",
   "execution_count": 38,
   "metadata": {},
   "outputs": [],
   "source": [
    "import numpy as np\n",
    "import pandas as pd\n",
    "from matplotlib import pyplot as plt"
   ]
  },
  {
   "cell_type": "code",
   "execution_count": 45,
   "metadata": {},
   "outputs": [],
   "source": [
    "def show_domain(screenshot=False):\n",
    "    import pyvista as pv\n",
    "    pv.set_plot_theme('paraview')\n",
    "\n",
    "    radius_i = 1\n",
    "    radius_o = 20 * radius_i\n",
    "    outer = pv.Sphere(center=(0,0,0), direction=(0,0,1), radius=radius_o)\n",
    "    inner = pv.Sphere(center=(0,0,0), direction=(0,0,1), radius=radius_i)\n",
    "\n",
    "    plo = pv.Plotter(notebook=True, shape=(1,1)) \n",
    "    plo.subplot(0,0)\n",
    "    plo.add_mesh(outer, color='yellow', opacity=0.99,)\n",
    "    plo.add_mesh(inner, color='red', opacity=1)\n",
    "    plo.add_axes(xlabel='R', ylabel='Theta', zlabel='Phi')\n",
    "\n",
    "    cpos = plo.show(window_size=[800, 600])\n",
    "    if screenshot:\n",
    "        plo.screenshot('domain.png')"
   ]
  },
  {
   "cell_type": "code",
   "execution_count": null,
   "metadata": {},
   "outputs": [
    {
     "name": "stderr",
     "output_type": "stream",
     "text": [
      "ERROR:root:Unable to find a valid OpenGL 3.2 or later implementation. Please update your video card driver to the latest version. If you are using Mesa please make sure you have version 11.2 or later and make sure your driver in Mesa supports OpenGL 3.2 such as llvmpipe or openswr. If you are on windows and using Microsoft remote desktop note that it only supports OpenGL 3.2 with nvidia quadro cards. You can use other remoting software such as nomachine to avoid this issue.\n"
     ]
    }
   ],
   "source": [
    "show_domain()"
   ]
  },
  {
   "cell_type": "markdown",
   "metadata": {},
   "source": [
    "## [Objectives](#toc)<a id=\"obj\"></a>"
   ]
  },
  {
   "cell_type": "markdown",
   "metadata": {},
   "source": [
    "1. Gather Cross Section Data to provide study parameters\n",
    "2. Set up the analytical solutions\n",
    "    - Set up the 1-group asymptotic analytic solution \n",
    "    - Set up the 2-group asymptotic analytical solution\n",
    "3. Code a MOOSE application to solve the neutron diffusion [problem](#strongform) using Galerkin's method with finite element basis functions\n",
    "    - Set up spherical coordinate system\n",
    "    - Identify best test functions for problem domain\n",
    "4. Run similation to then be compardd with that of the analytical solutions"
   ]
  },
  {
   "cell_type": "markdown",
   "metadata": {},
   "source": [
    "## [Approach](#toc)<a id=\"app\"></a>"
   ]
  },
  {
   "cell_type": "markdown",
   "metadata": {},
   "source": [
    "### [Analytic Solution](#toc)<a id=\"analyticalsol\"></a> \n",
    "\n",
    "A general solution is commonly given without the asymptotic condition as:\n",
    "\n",
    "\\begin{align*}\n",
    "    \\Phi(r) =  \\frac{S_0 e^{-\\kappa r}}{4\\pi Dr} \\ \\ \\ (2)\n",
    "\\end{align*}\n",
    "\n",
    "On the other hand, linear transport theory does provide a result at the asymptotic limit for moderately absorbing mediums given that the source flux is not infinity. The integral transport equation is written:\n",
    "\n",
    "\n",
    "\\begin{align*}\n",
    "    \\Phi(r) = \\int dV\\  \\frac{S_0 e^{- \\Sigma_t r}}{4 \\pi r^2} [c \\Sigma_t \\Phi(r') + S_0 \\delta(r')] \\ \\ \\ (3)\n",
    "\\end{align*}\n",
    "\n",
    "In this solution we will currently assume $S_0 = \\Phi_0$ for a single distributed source."
   ]
  },
  {
   "cell_type": "markdown",
   "metadata": {},
   "source": [
    "### [Weak Form of Problem Statement](#toc)<a id=\"weakform\"></a> \n",
    "\n",
    "The Galerkin weak formulation of the [strong form](#strongform) is as follows. Find $\\Phi_g \\in H^1\\!\\bigl([r_\\text{i},r_\\text{o}]\\bigr)$ and $u_2 \\in H^1\\!\\bigl([a,b]\\bigr)$\n",
    "so that \n",
    "\n",
    "\\begin{align*}\n",
    "\\int\\limits_a^b D\\, u_1'(x)\\,w'(x)\\,dx - \\int\\limits_a^b S(u_1, u_2)\\,w(x)\\,dx &= 0 \\quad \\forall \\quad v \\in H^1_0\\!\\bigl([a,b]\\bigr), \\text{and}\n",
    " \\\\\n",
    "  \\int\\limits_a^b v\\, u_2'(x)\\, w(x)\\,dx + \\int\\limits_a^b D\\, u_2'(x)\\,w'(x)\\,dx + \\int\\limits_a^b S(u_1, u_2)\\,w(x)\\,dx &= 0 \\quad \\forall \\quad v \\in H^1_0\\!\\bigl([a,b]\\bigr),\n",
    "\\end{align*}\n",
    "\n",
    "where $H^1\\!\\bigl([a,b]\\bigr) := \\bigl\\{ u:[a,b]\\subset\\Reals\\rightarrow \\Reals \\mid \\int_a^b u'^2\\,dx < \\infty\\bigr\\}$ and $H^1_0\\!\\bigl([a,b]\\bigr) := \\bigl\\{ w \\mid w \\in H^1(a,b), w(a) = 0, w(b) =0 \\bigr\\}$. Both function sets as just defined are Hilbert spaces. The function $w$ is called a test function. Because $w$, $u_1$, $u_2$ are sought in very similar sets of functions, this weak form is called Galerkin's weak form.\n",
    "\n",
    "1. Multiply NDE by a test function $\\phi$.\n",
    "2. Integrate over spatial and angular domain.\n",
    "3. Use divergence theorem to set the boundary condition across the domain surface.\n",
    "\n",
    "The weak form and boundary condition becomes:\n",
    "\n",
    "\\begin{align*}\n",
    "    ( \\nabla \\phi, D \\nabla \\Phi  )\\ - < \\phi, D \\nabla \\Phi \\cdot \\bar{n_b} > +\\ (\\phi , \\Sigma_{tot} \\Phi) = 0 \\ \\ \\ (1B)\n",
    "\\end{align*}\n",
    "\n",
    "This weak form contains the volume and surface integral as written with parenthesis and brackets respectively. The boundary conditions for the partial currents at the surface given as $\\Gamma^{\\pm}$ must be solved for:\n",
    "\n",
    "\\begin{align*}\n",
    "    \\Gamma^{+} = J^{out}({R_S}) = \\nabla \\Phi \\cdot \\bar{n_b}\n",
    "\\end{align*}\n",
    "\n",
    "\\begin{align*}\n",
    "    \\Gamma^{-} = J^{in}({R_S}) = 0\n",
    "\\end{align*}\n",
    "\n",
    "Here we will use the homogenous Neumann boundary condition, which is equivalent to the Robin boundary condition such that the reflectivity at the boundary is 0 as:\n",
    "\n",
    "\\begin{align*}\n",
    "    \\frac{1}{4} \\Phi + \\frac{1}{2} D \\nabla \\Phi \\cdot \\bar{n_b} = J^{-} = \\frac{\\Phi}{4} - \\frac{J}{2} = \\frac{\\Phi}{4} - \\frac{D \\nabla \\Phi}{2}\n",
    "\\end{align*}\n",
    "\n",
    "Solving for the weak form boundary condition and multiplying our test function $\\phi$:\n",
    "\n",
    "\\begin{align*}\n",
    "     \\phi (D \\nabla \\Phi \\cdot \\bar{n_b}) = \\phi( \\frac{1}{2} D \\nabla \\Phi)\n",
    "\\end{align*}\n",
    "\n",
    "#### 2 Group NDE  Weak Form:\n",
    "\n",
    "Assuming no upscattering from group 2 to group 1:\n",
    "\n",
    "\\begin{align*}\n",
    "    -\\nabla \\cdot D_1 \\nabla \\Phi_1(r)  + \\Sigma_{r,1} \\Phi(r) =  0 \\ \\ \\ (X) \n",
    "\\end{align*}\n",
    "\n",
    "\\begin{align*}\n",
    "    -\\nabla \\cdot D_2 \\nabla \\Phi_2(r)  + \\Sigma_{r,2} \\Phi(r) =  \\Sigma_{s,1 \\rightarrow 2} \\Phi_1(r) \\ \\ \\ (X) \n",
    "\\end{align*}"
   ]
  },
  {
   "cell_type": "markdown",
   "metadata": {},
   "source": [
    "## [Simulation](#toc)<a id=\"ranalysis\"></a>"
   ]
  },
  {
   "cell_type": "code",
   "execution_count": 63,
   "metadata": {},
   "outputs": [
    {
     "name": "stdout",
     "output_type": "stream",
     "text": [
      "\n",
      "\n",
      "Framework Information:\n",
      "MOOSE Version:           git commit 1d1b703aef on 2021-08-22\n",
      "LibMesh Version:         \n",
      "PETSc Version:           3.15.1\n",
      "SLEPc Version:           3.15.1\n",
      "Current Time:            Tue Mar  8 13:26:23 2022\n",
      "Executable Timestamp:    Tue Mar  8 13:25:00 2022\n",
      "\n",
      "Parallelism:\n",
      "  Num Processors:          1\n",
      "  Num Threads:             1\n",
      "\n",
      "Mesh: \n",
      "  Parallel Type:           replicated\n",
      "  Mesh Dimension:          1\n",
      "  Spatial Dimension:       1\n",
      "  Nodes:                   20001\n",
      "  Elems:                   10000\n",
      "  Num Subdomains:          1\n",
      "\n",
      "Nonlinear System:\n",
      "  Num DOFs:                40002\n",
      "  Num Local DOFs:          40002\n",
      "  Variables:               { \"u1\" \"u2\" } \n",
      "  Finite Element Types:    \"LAGRANGE\" \n",
      "  Approximation Orders:    \"SECOND\" \n",
      "\n",
      "Execution Information:\n",
      "  Executioner:             Steady\n",
      "  Solver Mode:             NEWTON\n",
      "  PETSc Preconditioner:    lu \n",
      "  MOOSE Preconditioner:    FDP\n",
      "\n",
      "\n",
      "\u001b[33m\n",
      "*** Warning ***\n",
      "/home/anthonyb08/projects/neutron__transport/input_test.hit:10: unused parameter 'velocity'\n",
      "/home/anthonyb08/projects/neutron__transport/input_test.hit:11: unused parameter 'transfer_coeff_right'\n",
      "/home/anthonyb08/projects/neutron__transport/input_test.hit:14: unused parameter 'sigma_s13'\n",
      "/home/anthonyb08/projects/neutron__transport/input_test.hit:15: unused parameter 'sigma_s23'\n",
      "\u001b[39m\n",
      " 0 Nonlinear |R| = \u001b[32m8.885803e+09\u001b[39m\n",
      "      0 Linear |R| = \u001b[32m8.885803e+09\u001b[39m\n",
      "      1 Linear |R| = \u001b[32m6.749655e-01\u001b[39m\n",
      " 1 Nonlinear |R| = \u001b[32m8.441495e+09\u001b[39m\n",
      "      0 Linear |R| = \u001b[32m8.441495e+09\u001b[39m\n",
      "      1 Linear |R| = \u001b[32m6.463167e-01\u001b[39m\n",
      " 2 Nonlinear |R| = \u001b[32m7.997187e+09\u001b[39m\n",
      "      0 Linear |R| = \u001b[32m7.997187e+09\u001b[39m\n",
      "      1 Linear |R| = \u001b[32m6.148762e-01\u001b[39m\n",
      " 3 Nonlinear |R| = \u001b[32m7.552880e+09\u001b[39m\n",
      "      0 Linear |R| = \u001b[32m7.552880e+09\u001b[39m\n",
      "      1 Linear |R| = \u001b[32m5.775706e-01\u001b[39m\n",
      " 4 Nonlinear |R| = \u001b[32m7.108572e+09\u001b[39m\n",
      "      0 Linear |R| = \u001b[32m7.108572e+09\u001b[39m\n",
      "      1 Linear |R| = \u001b[32m5.432557e-01\u001b[39m\n",
      " 5 Nonlinear |R| = \u001b[32m6.664265e+09\u001b[39m\n",
      "      0 Linear |R| = \u001b[32m6.664265e+09\u001b[39m\n",
      "      1 Linear |R| = \u001b[32m5.164543e-01\u001b[39m\n",
      " 6 Nonlinear |R| = \u001b[32m6.219957e+09\u001b[39m\n",
      "      0 Linear |R| = \u001b[32m6.219957e+09\u001b[39m\n",
      "      1 Linear |R| = \u001b[32m4.731274e-01\u001b[39m\n",
      " 7 Nonlinear |R| = \u001b[32m5.775649e+09\u001b[39m\n",
      "      0 Linear |R| = \u001b[32m5.775649e+09\u001b[39m\n",
      "      1 Linear |R| = \u001b[32m4.376146e-01\u001b[39m\n",
      " 8 Nonlinear |R| = \u001b[32m5.331341e+09\u001b[39m\n",
      "      0 Linear |R| = \u001b[32m5.331341e+09\u001b[39m\n",
      "      1 Linear |R| = \u001b[32m4.052873e-01\u001b[39m\n",
      " 9 Nonlinear |R| = \u001b[32m4.887033e+09\u001b[39m\n",
      "      0 Linear |R| = \u001b[32m4.887033e+09\u001b[39m\n",
      "      1 Linear |R| = \u001b[32m3.717016e-01\u001b[39m\n",
      "10 Nonlinear |R| = \u001b[32m4.442726e+09\u001b[39m\n",
      "      0 Linear |R| = \u001b[32m4.442726e+09\u001b[39m\n",
      "      1 Linear |R| = \u001b[32m3.398353e-01\u001b[39m\n",
      "11 Nonlinear |R| = \u001b[32m3.998418e+09\u001b[39m\n",
      "      0 Linear |R| = \u001b[32m3.998418e+09\u001b[39m\n",
      "      1 Linear |R| = \u001b[32m3.037010e-01\u001b[39m\n",
      "12 Nonlinear |R| = \u001b[32m3.554110e+09\u001b[39m\n",
      "      0 Linear |R| = \u001b[32m3.554110e+09\u001b[39m\n",
      "      1 Linear |R| = \u001b[32m2.724780e-01\u001b[39m\n",
      "13 Nonlinear |R| = \u001b[32m3.109802e+09\u001b[39m\n",
      "      0 Linear |R| = \u001b[32m3.109802e+09\u001b[39m\n",
      "      1 Linear |R| = \u001b[32m2.371047e-01\u001b[39m\n",
      "14 Nonlinear |R| = \u001b[32m2.665494e+09\u001b[39m\n",
      "      0 Linear |R| = \u001b[32m2.665494e+09\u001b[39m\n",
      "      1 Linear |R| = \u001b[32m2.039094e-01\u001b[39m\n",
      "15 Nonlinear |R| = \u001b[32m2.221186e+09\u001b[39m\n",
      "      0 Linear |R| = \u001b[32m2.221186e+09\u001b[39m\n",
      "      1 Linear |R| = \u001b[32m1.703883e-01\u001b[39m\n",
      "16 Nonlinear |R| = \u001b[32m1.776878e+09\u001b[39m\n",
      "      0 Linear |R| = \u001b[32m1.776878e+09\u001b[39m\n",
      "      1 Linear |R| = \u001b[32m1.373642e-01\u001b[39m\n",
      "17 Nonlinear |R| = \u001b[32m1.332571e+09\u001b[39m\n",
      "      0 Linear |R| = \u001b[32m1.332571e+09\u001b[39m\n",
      "      1 Linear |R| = \u001b[32m1.017234e-01\u001b[39m\n",
      "18 Nonlinear |R| = \u001b[32m8.882630e+08\u001b[39m\n",
      "      0 Linear |R| = \u001b[32m8.882630e+08\u001b[39m\n",
      "      1 Linear |R| = \u001b[32m6.722640e-02\u001b[39m\n",
      "19 Nonlinear |R| = \u001b[32m4.439555e+08\u001b[39m\n",
      "      0 Linear |R| = \u001b[32m4.439555e+08\u001b[39m\n",
      "      1 Linear |R| = \u001b[32m3.364981e-02\u001b[39m\n",
      "20 Nonlinear |R| = \u001b[32m2.772881e+04\u001b[39m\n",
      "      0 Linear |R| = \u001b[32m2.772881e+04\u001b[39m\n",
      "      1 Linear |R| = \u001b[32m1.669320e-10\u001b[39m\n",
      "21 Nonlinear |R| = \u001b[32m1.067129e-04\u001b[39m\n",
      "\u001b[32m Solve Converged!\u001b[39m\n"
     ]
    }
   ],
   "source": [
    "\n",
    "!./neutron__transport-opt -i input_test.hit\n"
   ]
  },
  {
   "cell_type": "code",
   "execution_count": 64,
   "metadata": {},
   "outputs": [],
   "source": [
    "def plot_solution_1group(df, \n",
    "                  title='No Title', \n",
    "                  basis_functions_type='No basis functions type',\n",
    "                  flux_basis_functions_type='No basis functions type'):\n",
    "    \n",
    "    import matplotlib.pyplot as plt\n",
    "    %matplotlib inline\n",
    "    import math\n",
    "    import numpy as np\n",
    "    import pandas as pd\n",
    "    from matplotlib import pyplot as plt\n",
    "    plt.style.use('dark_background')\n",
    "    S=10**6\n",
    "    sigma_s=3.45\n",
    "    r=np.linspace(.1,100,1000)\n",
    "    D=1/(sigma_s*(1-2/3))\n",
    "    sigma_c=0.022\n",
    "    L=math.sqrt(D/sigma_c)\n",
    "\n",
    "    y = S*np.exp(-r/L)/(4*np.pi*D*r)\n",
    " \n",
    "    (fig, ax1) = plt.subplots(1, figsize=(8, 8))\n",
    "    ax1.plot(df['x'], df['u1'],'b*-',label=\"U1\")\n",
    "    ax1.plot(df['x'], df['u2'],'r*-',label=\"U2\")\n",
    "    #ax1.plot(r, y,'b*-',label='Analytical Solution')\n",
    "    ax1.set_xlabel(r'$Radius $ [cm]', fontsize=18)\n",
    "    ax1.set_ylabel(r'$Neutron Flux$ [n/cm^2]', fontsize=18, color='red')\n",
    "\n",
    "    ax1.set_yscale('log')\n",
    "    \n",
    "    ax1.tick_params(axis='y', labelcolor='red', labelsize=14)\n",
    "    ax1.tick_params(axis='x', labelsize=14)\n",
    "    ax1.legend(loc='center left', fontsize=12)\n",
    "    ax1.set_ylim(1e-12,1e12)\n",
    "    ax1.grid(True)\n",
    "    \n",
    "    plt.title(title, fontsize=20)\n",
    "    fig.tight_layout()  # otherwise the right y-label is slightly clipped\n",
    "    plt.show()\n",
    "    print('')"
   ]
  },
  {
   "cell_type": "code",
   "execution_count": 66,
   "metadata": {},
   "outputs": [
    {
     "name": "stdout",
     "output_type": "stream",
     "text": [
      "rm: cannot remove 'output2G*.csv': No such file or directory\r\n"
     ]
    },
    {
     "data": {
      "image/png": "[encoded data removed]",
      "text/plain": [
       "<Figure size 576x576 with 1 Axes>"
      ]
     },
     "metadata": {},
     "output_type": "display_data"
    },
    {
     "name": "stdout",
     "output_type": "stream",
     "text": [
      "\n"
     ]
    }
   ],
   "source": [
    "import pandas as pd\n",
    "!rm output2G*.csv\n",
    "df = pd.read_csv('output1G_x-data_0002.csv')\n",
    "plot_solution(df, title='Neutron Transport through Uranium-238', basis_functions_type='Linear Lagrange', flux_basis_functions_type='Constant Monomial')\n",
    "\n"
   ]
  },
  {
   "cell_type": "code",
   "execution_count": null,
   "metadata": {},
   "outputs": [],
   "source": [
    "def plot_solution_2group(df, \n",
    "                  title='No Title', \n",
    "                  basis_functions_type='No basis functions type',\n",
    "                  flux_basis_functions_type='No basis functions type'):\n",
    "    \n",
    "    import matplotlib.pyplot as plt\n",
    "    %matplotlib inline\n",
    "    import math\n",
    "    import numpy as np\n",
    "    import pandas as pd\n",
    "    from matplotlib import pyplot as plt\n",
    "    plt.style.use('dark_background')\n",
    "    S=10**6\n",
    "    sigma_s=3.45\n",
    "    r=np.linspace(.1,100,1000)\n",
    "    D=1/(sigma_s*(1-2/3))\n",
    "    sigma_c=0.022\n",
    "    L=math.sqrt(D/sigma_c)\n",
    "\n",
    "    y = S*np.exp(-r/L)/(4*np.pi*D*r)\n",
    " \n",
    "    (fig, ax1) = plt.subplots(1, figsize=(8, 8))\n",
    "    ax1.plot(df['x'], df['u1'],'b*-',label=\"U1\")\n",
    "    ax1.plot(df['x'], df['u2'],'r*-',label=\"U2\")\n",
    "    ax1.plot(r, y,'b*-',label='Analytical Solution')\n",
    "    ax1.set_xlabel(r'$Radius $ [cm]', fontsize=18)\n",
    "    ax1.set_ylabel(r'$Neutron Flux$ [n/cm^2]', fontsize=18, color='red')\n",
    "\n",
    "    ax1.set_yscale('log')\n",
    "    \n",
    "    ax1.tick_params(axis='y', labelcolor='red', labelsize=14)\n",
    "    ax1.tick_params(axis='x', labelsize=14)\n",
    "    ax1.legend(loc='center left', fontsize=12)\n",
    "    ax1.set_ylim(1e-12,1e12)\n",
    "    ax1.grid(True)\n",
    "    \n",
    "    plt.title(title, fontsize=20)\n",
    "    fig.tight_layout()  # otherwise the right y-label is slightly clipped\n",
    "    plt.show()\n",
    "    print('')"
   ]
  },
  {
   "cell_type": "markdown",
   "metadata": {},
   "source": [
    "## [Results and Analysis](#toc)<a id=\"ranalysis\"></a>"
   ]
  },
  {
   "cell_type": "code",
   "execution_count": null,
   "metadata": {},
   "outputs": [],
   "source": []
  },
  {
   "cell_type": "code",
   "execution_count": null,
   "metadata": {},
   "outputs": [],
   "source": []
  }
 ],
 "metadata": {
  "kernelspec": {
   "display_name": "Python 3 (ipykernel)",
   "language": "python",
   "name": "python3"
  },
  "language_info": {
   "codemirror_mode": {
    "name": "ipython",
    "version": 3
   },
   "file_extension": ".py",
   "mimetype": "text/x-python",
   "name": "python",
   "nbconvert_exporter": "python",
   "pygments_lexer": "ipython3",
   "version": "3.9.6"
  },
  "latex_envs": {
   "LaTeX_envs_menu_present": true,
   "autoclose": false,
   "autocomplete": true,
   "bibliofile": "biblio.bib",
   "cite_by": "apalike",
   "current_citInitial": 1,
   "eqLabelWithNumbers": true,
   "eqNumInitial": 1,
   "hotkeys": {
    "equation": "Ctrl-E",
    "itemize": "Ctrl-I"
   },
   "labels_anchors": false,
   "latex_user_defs": false,
   "report_style_numbering": false,
   "user_envs_cfg": false
  }
 },
 "nbformat": 4,
 "nbformat_minor": 2
}
